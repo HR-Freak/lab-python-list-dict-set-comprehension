{
 "cells": [
  {
   "cell_type": "markdown",
   "id": "25d7736c-ba17-4aff-b6bb-66eba20fbf4e",
   "metadata": {},
   "source": [
    "# Lab | List, Dict and Set Comprehension"
   ]
  },
  {
   "cell_type": "markdown",
   "id": "7dd3cbde-675a-4b81-92c3-f728846dbe06",
   "metadata": {},
   "source": [
    "## Exercise: Managing Customer Orders Optimized with Comprehension"
   ]
  },
  {
   "cell_type": "markdown",
   "id": "5d500160-2fb7-4777-b5e4-09d45ebaf328",
   "metadata": {},
   "source": [
    "In the previous exercise, you developed a program to manage customer orders and inventory. Now, let's take it a step further and incorporate comprehension into your code.\n",
    "\n",
    "Follow the steps below to complete the exercise:\n",
    "\n",
    "1. Review your code from the previous exercise and identify areas where you can apply comprehension to simplify and streamline your code. \n",
    "\n",
    "    - *Hint: Apply it to initialize inventory, updating the inventory and printing the updated inventory.*\n",
    "    \n",
    "    - For example, in initializing the inventory, we could have:\n",
    "    \n",
    "        ```python\n",
    "        def initialize_inventory(products):\n",
    "            inventory = {product: int(input(f\"Enter the quantity of {product}s available: \")) for product in products}\n",
    "            return inventory\n",
    "\n",
    "        ```\n",
    "<br>\n",
    "    \n",
    "    \n",
    "2. Modify the function get_customer_orders so it prompts the user to enter the number of customer orders and gathers the product names using a loop and user input. Use comprehension.\n",
    "\n",
    "3. Add a new function to calculate the total price of the customer order. For each product in customer_orders, prompt the user to enter the price of that product. Use comprehension to calculate the total price. Note: assume that the user can only have 1 unit of each product.\n",
    "\n",
    "4. Modify the update_inventory function to remove the product from the inventory if its quantity becomes zero after fulfilling the customer orders. Use comprehension to filter out the products with a quantity of zero from the inventory.\n",
    "\n",
    "5. Print the total price of the customer order.\n",
    "\n",
    "Your code should produce output similar to the following:\n",
    "\n",
    "```python\n",
    "Enter the quantity of t-shirts available:  5\n",
    "Enter the quantity of mugs available:  4\n",
    "Enter the quantity of hats available:  3\n",
    "Enter the quantity of books available:  2\n",
    "Enter the quantity of keychains available:  1\n",
    "Enter the number of customer orders:  2\n",
    "Enter the name of a product that a customer wants to order:  hat\n",
    "Enter the name of a product that a customer wants to order:  keychain\n",
    "\n",
    "Order Statistics:\n",
    "Total Products Ordered: 2\n",
    "Percentage of Unique Products Ordered: 40.0\n",
    "\n",
    "Updated Inventory:\n",
    "t-shirt: 5\n",
    "mug: 4\n",
    "hat: 2\n",
    "book: 2\n",
    "Enter the price of keychain:  5\n",
    "Enter the price of hat:  10\n",
    "Total Price: 15.0\n",
    "\n",
    "```\n"
   ]
  },
  {
   "cell_type": "code",
   "execution_count": 6,
   "id": "46273357",
   "metadata": {},
   "outputs": [],
   "source": [
    "#products list\n",
    "products = [\"t-shirt\", \"mug\", \"hat\", \"book\", \"keychain\"]"
   ]
  },
  {
   "cell_type": "code",
   "execution_count": 7,
   "id": "dc57dcaf",
   "metadata": {},
   "outputs": [],
   "source": [
    "def initialize_inventory(products): #defines the starting inventory and its products\n",
    "    inventory = {}\n",
    "    print(\"enter quantity for each product:\")\n",
    "    for item in products:\n",
    "        quantity = input(f\"  {item}: \")\n",
    "        while not quantity.isdigit():\n",
    "            print(\"Please enter a valid number.\")\n",
    "            quantity = input(f\"  {item}: \")\n",
    "        inventory[item] = int(quantity)\n",
    "    return inventory #returns the initialized inventory"
   ]
  },
  {
   "cell_type": "code",
   "execution_count": 8,
   "id": "ea39718a",
   "metadata": {},
   "outputs": [
    {
     "name": "stdout",
     "output_type": "stream",
     "text": [
      "enter quantity for each product:\n",
      "Please enter a valid number.\n",
      "Initial inventory: {'t-shirt': 89, 'mug': 64, 'hat': 67, 'book': 567, 'keychain': 64}\n"
     ]
    }
   ],
   "source": [
    "inventory = initialize_inventory(products)\n",
    "print(\"Initial inventory:\", inventory)"
   ]
  },
  {
   "cell_type": "code",
   "execution_count": 9,
   "id": "edb69c3c",
   "metadata": {},
   "outputs": [],
   "source": [
    "def get_costumer_orders(products):\n",
    "    customer_orders = set()\n",
    "    num_orders = input(\"How many different products would you like to order? \")\n",
    "    while not num_orders.isdigit() or int(num_orders) <= 0:\n",
    "        print(\"Please enter a valid positive number.\")\n",
    "        num_orders = input(\"How many different products would you like to order? \")\n",
    "    num_orders = int(num_orders)\n",
    "    for _ in range(num_orders):\n",
    "        product_name = input(f\"enter the product name: \").lower()\n",
    "        if product_name in products:\n",
    "            customer_orders.add(product_name)\n",
    "        else:\n",
    "            print(f\"{product_name} is not available.\")\n",
    "    return customer_orders #returns the set of ordered products"
   ]
  },
  {
   "cell_type": "code",
   "execution_count": 10,
   "id": "ce40dc01",
   "metadata": {},
   "outputs": [
    {
     "name": "stdout",
     "output_type": "stream",
     "text": [
      "Customer orders: {'book', 'hat'}\n"
     ]
    }
   ],
   "source": [
    "customer_orders = get_costumer_orders(products)\n",
    "print(\"Customer orders:\", customer_orders)"
   ]
  },
  {
   "cell_type": "code",
   "execution_count": 11,
   "id": "b6e2fb59",
   "metadata": {},
   "outputs": [],
   "source": [
    "def calculate_order_statitics(customer_orders, products): #calculates the total items ordered and the average items per product\n",
    "    total_products_ordered = len(customer_orders)\n",
    "    percentage_ordered = (total_products_ordered / len(products)) * 100\n",
    "    return total_products_ordered, percentage_ordered #returns the total items ordered and the average"
   ]
  },
  {
   "cell_type": "code",
   "execution_count": 12,
   "id": "cdfbc4e6",
   "metadata": {},
   "outputs": [
    {
     "name": "stdout",
     "output_type": "stream",
     "text": [
      "Order statistics: (2, 40.0)\n"
     ]
    }
   ],
   "source": [
    "statistics = calculate_order_statitics(customer_orders, products)\n",
    "print(\"Order statistics:\", statistics)"
   ]
  },
  {
   "cell_type": "code",
   "execution_count": 13,
   "id": "609ad155",
   "metadata": {},
   "outputs": [],
   "source": [
    "def calculate_total_price(customer_orders): #calculates the total price of the ordered products\n",
    "    total_price = 0.0\n",
    "    for p in customer_orders:\n",
    "        price = input(f\"Enter the price for {p}: \")\n",
    "        while not (price.replace('.','',1).isdigit() and price.count('.') <= 1):\n",
    "            print(\"Please enter a valid price non negative.\")\n",
    "            price = input(f\"Enter the price for {p}: \")\n",
    "        total_price += float(price)\n",
    "    return total_price #returns the total price of the order"
   ]
  },
  {
   "cell_type": "code",
   "execution_count": 14,
   "id": "ae0128c4",
   "metadata": {},
   "outputs": [
    {
     "name": "stdout",
     "output_type": "stream",
     "text": [
      "Total price of the order: €16.0\n"
     ]
    }
   ],
   "source": [
    "total_price = calculate_total_price(customer_orders)\n",
    "print(f\"Total price of the order: €{total_price}\")"
   ]
  },
  {
   "cell_type": "code",
   "execution_count": 15,
   "id": "977e8859",
   "metadata": {},
   "outputs": [],
   "source": [
    "def updated_inventory(inventory, customer_orders): #updates the inventory after an order is placed\n",
    "    for item in customer_orders:\n",
    "        if item in inventory and inventory[item] > 0:\n",
    "            inventory[item] -= 1\n",
    "        else:\n",
    "            print(f\"Sorry, {item} is out of stock.\")\n",
    "    return inventory #returns the updated inventory"
   ]
  },
  {
   "cell_type": "code",
   "execution_count": 16,
   "id": "cd637cba",
   "metadata": {},
   "outputs": [
    {
     "name": "stdout",
     "output_type": "stream",
     "text": [
      "Updated inventory: {'t-shirt': 89, 'mug': 64, 'hat': 66, 'book': 566, 'keychain': 64}\n"
     ]
    }
   ],
   "source": [
    "updated_inventory = updated_inventory(inventory, customer_orders)\n",
    "print(\"Updated inventory:\", updated_inventory)"
   ]
  }
 ],
 "metadata": {
  "kernelspec": {
   "display_name": "base",
   "language": "python",
   "name": "python3"
  },
  "language_info": {
   "codemirror_mode": {
    "name": "ipython",
    "version": 3
   },
   "file_extension": ".py",
   "mimetype": "text/x-python",
   "name": "python",
   "nbconvert_exporter": "python",
   "pygments_lexer": "ipython3",
   "version": "3.13.5"
  }
 },
 "nbformat": 4,
 "nbformat_minor": 5
}
